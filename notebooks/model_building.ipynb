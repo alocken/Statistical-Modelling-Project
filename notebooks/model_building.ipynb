{
 "cells": [
  {
   "cell_type": "markdown",
   "metadata": {},
   "source": [
    "Build a regression model."
   ]
  },
  {
   "cell_type": "code",
   "execution_count": null,
   "metadata": {},
   "outputs": [],
   "source": [
    "#number of cafes/bars ~ number of bike stations\n",
    "\n",
    "# import numpy\n",
    "import numpy as np\n",
    "import pandas as pd"
   ]
  },
  {
   "cell_type": "code",
   "execution_count": null,
   "metadata": {},
   "outputs": [],
   "source": [
    "# import linear_model and datasets from sklearn\n",
    "from sklearn import linear_model, datasets\n",
    "#from sklearn.datasets import fetch_california_housing\n",
    "\n",
    "#load from a CSV\n",
    "bikestations = pd.read_csv(\"algira.csv\")\n",
    "bars_cafes = pd.read_csv(\"foursquare.csv\")"
   ]
  },
  {
   "cell_type": "code",
   "execution_count": null,
   "metadata": {},
   "outputs": [
    {
     "name": "stdout",
     "output_type": "stream",
     "text": [
      "   Unnamed: 0                          name  longitude   latitude\n",
      "0           0                    Cineteatro  -8.630230  39.209869\n",
      "1           1           Pavilhão Desportivo  -8.624431  39.205402\n",
      "2           2          Biblioteca Municipal  -8.621210  39.207352\n",
      "3           3                 Parque Urbano  -8.622314  39.214693\n",
      "4           4  Piscinas & Estádio Municipal  -8.617121  39.211938\n",
      "   Unnamed: 0              name  category        lat       lng\n",
      "0           0      Café Império       Bar  39.209374 -8.630684\n",
      "1           1   Boutique do Chá  Tea Room  39.210251 -8.629609\n",
      "2           2     Caffe Central      Café  39.209143 -8.629995\n",
      "3           3  Casa de Chá Chic      Café  39.209287 -8.629253\n",
      "4           4       3A É de Vez       Bar  39.209736 -8.631633\n"
     ]
    }
   ],
   "source": [
    "#check csv data column names\n",
    "print(bikestations.head())\n",
    "print(bars_cafes.head())"
   ]
  },
  {
   "cell_type": "code",
   "execution_count": null,
   "metadata": {},
   "outputs": [
    {
     "name": "stdout",
     "output_type": "stream",
     "text": [
      "   Unnamed: 0                          name  longitude   latitude  grid_lat  \\\n",
      "0           0                    Cineteatro  -8.630230  39.209869    3920.0   \n",
      "1           1           Pavilhão Desportivo  -8.624431  39.205402    3920.0   \n",
      "2           2          Biblioteca Municipal  -8.621210  39.207352    3920.0   \n",
      "3           3                 Parque Urbano  -8.622314  39.214693    3921.0   \n",
      "4           4  Piscinas & Estádio Municipal  -8.617121  39.211938    3921.0   \n",
      "\n",
      "   grid_lon        grid_id  \n",
      "0    -864.0  3920.0_-864.0  \n",
      "1    -863.0  3920.0_-863.0  \n",
      "2    -863.0  3920.0_-863.0  \n",
      "3    -863.0  3921.0_-863.0  \n",
      "4    -862.0  3921.0_-862.0  \n",
      "   Unnamed: 0              name  category        lat       lng  grid_lat  \\\n",
      "0           0      Café Império       Bar  39.209374 -8.630684    3920.0   \n",
      "1           1   Boutique do Chá  Tea Room  39.210251 -8.629609    3921.0   \n",
      "2           2     Caffe Central      Café  39.209143 -8.629995    3920.0   \n",
      "3           3  Casa de Chá Chic      Café  39.209287 -8.629253    3920.0   \n",
      "4           4       3A É de Vez       Bar  39.209736 -8.631633    3920.0   \n",
      "\n",
      "   grid_lon        grid_id  \n",
      "0    -864.0  3920.0_-864.0  \n",
      "1    -863.0  3921.0_-863.0  \n",
      "2    -863.0  3920.0_-863.0  \n",
      "3    -863.0  3920.0_-863.0  \n",
      "4    -864.0  3920.0_-864.0  \n"
     ]
    }
   ],
   "source": [
    "# grid size\n",
    "lat_grid_size = 0.01  # latitude grid size 1.1km\n",
    "lon_grid_size = 0.01  # longitude grid size 1.1km\n",
    "\n",
    "# column each point belongs to\n",
    "bikestations['grid_lat'] = np.floor(bikestations['latitude'] / lat_grid_size)\n",
    "bikestations['grid_lon'] = np.floor(bikestations['longitude'] / lon_grid_size)\n",
    "#bikestations['grid_id'] = bikestations['grid_lat'].astype(str) + \"_\" + bikestations['grid_lon'].astype(str)\n",
    "\n",
    "bars_cafes['grid_lat'] = np.floor(bars_cafes['lat'] / lat_grid_size)\n",
    "bars_cafes['grid_lon'] = np.floor(bars_cafes['lng'] / lon_grid_size)\n",
    "#bars_cafes['grid_id'] = bars_cafes['grid_lat'].astype(str) + \"_\" + bars_cafes['grid_lon'].astype(str)\n",
    "\n",
    "# preview first rows\n",
    "print(bikestations.head())\n",
    "print(bars_cafes.head())"
   ]
  },
  {
   "cell_type": "code",
   "execution_count": 89,
   "metadata": {},
   "outputs": [
    {
     "name": "stdout",
     "output_type": "stream",
     "text": [
      "         grid_id  bike_station_count  bar_cafe_count\n",
      "0  3920.0_-862.0                 0.0               5\n",
      "1  3920.0_-863.0                 5.0              24\n",
      "2  3920.0_-864.0                 2.0               9\n",
      "3  3921.0_-862.0                 1.0               7\n",
      "4  3921.0_-863.0                 1.0              15\n"
     ]
    }
   ],
   "source": [
    "#bike stations and bars/cafes per grid cell\n",
    "bike_station_count = bikestations.groupby('grid_id').size().reset_index(name='bike_station_count')\n",
    "bar_cafes_count = bars_cafes.groupby('grid_id').size().reset_index(name='bar_cafe_count')\n",
    "\n",
    "#merge one dataframe on the grid_id\n",
    "grid_data = pd.merge(bike_station_count, bar_cafes_count, on='grid_id', how='outer').fillna(0)\n",
    "\n",
    "# preview new DF\n",
    "print(grid_data.head())"
   ]
  },
  {
   "cell_type": "code",
   "execution_count": 90,
   "metadata": {},
   "outputs": [],
   "source": [
    "import statsmodels.api as sm"
   ]
  },
  {
   "cell_type": "code",
   "execution_count": 91,
   "metadata": {},
   "outputs": [
    {
     "name": "stdout",
     "output_type": "stream",
     "text": [
      "Index(['grid_id', 'bike_station_count', 'bar_cafe_count'], dtype='object')\n"
     ]
    }
   ],
   "source": [
    "print(grid_data.columns)"
   ]
  },
  {
   "cell_type": "code",
   "execution_count": null,
   "metadata": {},
   "outputs": [
    {
     "name": "stdout",
     "output_type": "stream",
     "text": [
      "                            OLS Regression Results                            \n",
      "==============================================================================\n",
      "Dep. Variable:         bar_cafe_count   R-squared:                       0.796\n",
      "Model:                            OLS   Adj. R-squared:                  0.745\n",
      "Method:                 Least Squares   F-statistic:                     15.61\n",
      "Date:                Wed, 16 Apr 2025   Prob (F-statistic):             0.0168\n",
      "Time:                        18:55:10   Log-Likelihood:                -15.828\n",
      "No. Observations:                   6   AIC:                             35.66\n",
      "Df Residuals:                       4   BIC:                             35.24\n",
      "Df Model:                           1                                         \n",
      "Covariance Type:            nonrobust                                         \n",
      "======================================================================================\n",
      "                         coef    std err          t      P>|t|      [0.025      0.975]\n",
      "--------------------------------------------------------------------------------------\n",
      "const                  4.2952      2.252      1.907      0.129      -1.957      10.548\n",
      "bike_station_count     3.9143      0.991      3.951      0.017       1.164       6.665\n",
      "==============================================================================\n",
      "Omnibus:                          nan   Durbin-Watson:                   2.625\n",
      "Prob(Omnibus):                    nan   Jarque-Bera (JB):                1.115\n",
      "Skew:                           1.056   Prob(JB):                        0.573\n",
      "Kurtosis:                       2.977   Cond. No.                         3.31\n",
      "==============================================================================\n",
      "\n",
      "Notes:\n",
      "[1] Standard Errors assume that the covariance matrix of the errors is correctly specified.\n"
     ]
    },
    {
     "name": "stderr",
     "output_type": "stream",
     "text": [
      "c:\\Users\\alial\\anaconda3\\Lib\\site-packages\\statsmodels\\stats\\stattools.py:74: ValueWarning: omni_normtest is not valid with less than 8 observations; 6 samples were given.\n",
      "  warn(\"omni_normtest is not valid with less than 8 observations; %i \"\n"
     ]
    }
   ],
   "source": [
    "\n",
    "#define features (X) and target (y)\n",
    "X = grid_data[['bike_station_count']]  # Independent variable: number of bike stations\n",
    "y = grid_data['bar_cafe_count']  # Dependent variable: number of bars/cafes\n",
    "\n",
    "#add constant \n",
    "X = sm.add_constant(X)\n",
    "\n",
    "#fit regression model\n",
    "reg_model = sm.OLS(y,X).fit()\n",
    "\n",
    "\n",
    "#regression model results\n",
    "print(reg_model.summary())"
   ]
  },
  {
   "cell_type": "markdown",
   "metadata": {},
   "source": [
    "Provide model output and an interpretation of the results. "
   ]
  },
  {
   "cell_type": "code",
   "execution_count": null,
   "metadata": {},
   "outputs": [
    {
     "name": "stdout",
     "output_type": "stream",
     "text": [
      "                            OLS Regression Results                            \n",
      "==============================================================================\n",
      "Dep. Variable:         bar_cafe_count   R-squared:                       0.796\n",
      "Model:                            OLS   Adj. R-squared:                  0.745\n",
      "Method:                 Least Squares   F-statistic:                     15.61\n",
      "Date:                Wed, 16 Apr 2025   Prob (F-statistic):             0.0168\n",
      "Time:                        18:55:38   Log-Likelihood:                -15.828\n",
      "No. Observations:                   6   AIC:                             35.66\n",
      "Df Residuals:                       4   BIC:                             35.24\n",
      "Df Model:                           1                                         \n",
      "Covariance Type:            nonrobust                                         \n",
      "======================================================================================\n",
      "                         coef    std err          t      P>|t|      [0.025      0.975]\n",
      "--------------------------------------------------------------------------------------\n",
      "const                  4.2952      2.252      1.907      0.129      -1.957      10.548\n",
      "bike_station_count     3.9143      0.991      3.951      0.017       1.164       6.665\n",
      "==============================================================================\n",
      "Omnibus:                          nan   Durbin-Watson:                   2.625\n",
      "Prob(Omnibus):                    nan   Jarque-Bera (JB):                1.115\n",
      "Skew:                           1.056   Prob(JB):                        0.573\n",
      "Kurtosis:                       2.977   Cond. No.                         3.31\n",
      "==============================================================================\n",
      "\n",
      "Notes:\n",
      "[1] Standard Errors assume that the covariance matrix of the errors is correctly specified.\n"
     ]
    },
    {
     "name": "stderr",
     "output_type": "stream",
     "text": [
      "c:\\Users\\alial\\anaconda3\\Lib\\site-packages\\statsmodels\\stats\\stattools.py:74: ValueWarning: omni_normtest is not valid with less than 8 observations; 6 samples were given.\n",
      "  warn(\"omni_normtest is not valid with less than 8 observations; %i \"\n"
     ]
    }
   ],
   "source": [
    "#regression model results\n",
    "print(reg_model.summary())"
   ]
  },
  {
   "cell_type": "markdown",
   "metadata": {},
   "source": [
    "# Stretch"
   ]
  },
  {
   "cell_type": "markdown",
   "metadata": {},
   "source": [
    "How can you turn the regression model into a classification model?"
   ]
  },
  {
   "cell_type": "code",
   "execution_count": null,
   "metadata": {},
   "outputs": [],
   "source": [
    "2.7 Regression vs. Classification\n",
    "Classification and regression algorithms can both be used for forecasting in statistics (as well as in machine learning) and operate with labelled datasets.\n",
    "\n",
    "The key distinction between classification and regression algorithms is that regression algorithms are used to determine continuous values such as price, income, age, etc. whereas classification algorithms are used to forecast or classify distinct values such as true or false, spam or not spam, etc."
   ]
  },
  {
   "cell_type": "markdown",
   "metadata": {},
   "source": [
    "When to Apply a Regression Model\n",
    "Regression algorithms are used to determine continuous values such as price, income, age, etc.\n",
    "\n",
    "When to Apply a Classification Model\n",
    "Classification algorithms are used to forecast or classify distinct values such as True or False, Spam or Not Spam, etc"
   ]
  }
 ],
 "metadata": {
  "kernelspec": {
   "display_name": "base",
   "language": "python",
   "name": "python3"
  },
  "language_info": {
   "codemirror_mode": {
    "name": "ipython",
    "version": 3
   },
   "file_extension": ".py",
   "mimetype": "text/x-python",
   "name": "python",
   "nbconvert_exporter": "python",
   "pygments_lexer": "ipython3",
   "version": "3.12.3"
  }
 },
 "nbformat": 4,
 "nbformat_minor": 4
}
