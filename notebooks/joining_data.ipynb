{
 "cells": [
  {
   "cell_type": "markdown",
   "metadata": {},
   "source": [
    "Join the data from Part 1 with the data from Part 2 to create a new dataframe."
   ]
  },
  {
   "cell_type": "code",
   "execution_count": 9,
   "metadata": {},
   "outputs": [],
   "source": [
    "import pandas as pd"
   ]
  },
  {
   "cell_type": "code",
   "execution_count": null,
   "metadata": {},
   "outputs": [],
   "source": [
    "#city bikes algira csv\n",
    "df1 = pd.read_csv('algira.csv')\n"
   ]
  },
  {
   "cell_type": "code",
   "execution_count": 25,
   "metadata": {},
   "outputs": [],
   "source": [
    "#foursquare csv\n",
    "df2 = pd.read_csv('foursquare.csv')"
   ]
  },
  {
   "cell_type": "code",
   "execution_count": 26,
   "metadata": {},
   "outputs": [],
   "source": [
    "#yelp csv\n",
    "df3 = pd.read_csv('yelp.csv')"
   ]
  },
  {
   "cell_type": "code",
   "execution_count": 31,
   "metadata": {},
   "outputs": [
    {
     "name": "stdout",
     "output_type": "stream",
     "text": [
      "    Unnamed: 0_x                                               name  \\\n",
      "0            NaN                                        3A É de Vez   \n",
      "1            NaN                            Aida M Soares Conceição   \n",
      "2            NaN                     Alcindo J. N. Pereira Monteiro   \n",
      "3            NaN                               Antonio Fidalgo Rosa   \n",
      "4            NaN                         António F Fernandes Virgas   \n",
      "..           ...                                                ...   \n",
      "85           NaN                                           Tecniart   \n",
      "86           NaN                                            Titanic   \n",
      "87           NaN                     Turma dos Desejos - Unipessoal   \n",
      "88           NaN  Venercom, Comércio e Representações de Produto...   \n",
      "89           NaN                           Vânia Lopes - Unipessoal   \n",
      "\n",
      "    longitude  latitude  Unnamed: 0_y                 category_x      lat_x  \\\n",
      "0         NaN       NaN           4.0                        Bar  39.209736   \n",
      "1         NaN       NaN          28.0                       Café  39.209693   \n",
      "2         NaN       NaN          38.0                       Café  39.206780   \n",
      "3         NaN       NaN          44.0                       Café  39.203672   \n",
      "4         NaN       NaN          29.0                   Wine Bar  39.209693   \n",
      "..        ...       ...           ...                        ...        ...   \n",
      "85        NaN       NaN          46.0                   Tea Room  39.213948   \n",
      "86        NaN       NaN           8.0                        Bar  39.213075   \n",
      "87        NaN       NaN          72.0                   Tea Room  39.205583   \n",
      "88        NaN       NaN          16.0  Food and Beverage Service  39.210089   \n",
      "89        NaN       NaN          24.0                   Tea Room  39.209693   \n",
      "\n",
      "       lng_x  Unnamed: 0 category_y  lat_y  lng_y  \n",
      "0  -8.631633         NaN        NaN    NaN    NaN  \n",
      "1  -8.628727         NaN        NaN    NaN    NaN  \n",
      "2  -8.625260         NaN        NaN    NaN    NaN  \n",
      "3  -8.628443         NaN        NaN    NaN    NaN  \n",
      "4  -8.628727         NaN        NaN    NaN    NaN  \n",
      "..       ...         ...        ...    ...    ...  \n",
      "85 -8.622787         NaN        NaN    NaN    NaN  \n",
      "86 -8.620401         NaN        NaN    NaN    NaN  \n",
      "87 -8.619246         NaN        NaN    NaN    NaN  \n",
      "88 -8.629819         NaN        NaN    NaN    NaN  \n",
      "89 -8.628727         NaN        NaN    NaN    NaN  \n",
      "\n",
      "[90 rows x 12 columns]\n"
     ]
    }
   ],
   "source": [
    "#join df1 and df2\n",
    "merged_df = pd.merge(df1, df2, on='name', how='outer')\n",
    "\n",
    "#join result with df3\n",
    "final_df = pd.merge(merged_df, df3, on='name', how='outer')\n",
    "\n",
    "print(final_df)"
   ]
  },
  {
   "cell_type": "markdown",
   "metadata": {},
   "source": [
    "Provide a visualization that you used as part of your EDA process. Explain the initial pattern or relationship you discoved through this visualization. "
   ]
  },
  {
   "cell_type": "code",
   "execution_count": null,
   "metadata": {},
   "outputs": [],
   "source": [
    "# Import seaborn\n",
    "import seaborn as sns\n",
    "\n",
    "# Apply the default theme\n",
    "sns.set_theme()\n",
    "\n",
    "# Load an example dataset\n",
    "tips = sns.load_dataset(\"tips\")\n",
    "\n",
    "# Create a visualization\n",
    "sns.relplot(\n",
    "    data=tips,\n",
    "    x=\"total_bill\", y=\"tip\", col=\"time\",\n",
    "    hue=\"smoker\", style=\"smoker\", size=\"size\",\n",
    ")"
   ]
  },
  {
   "cell_type": "markdown",
   "metadata": {},
   "source": [
    "# Database"
   ]
  },
  {
   "cell_type": "markdown",
   "metadata": {},
   "source": [
    "Put all your results in an SQLite3 database (remember, SQLite stores its databases as files in your local machine - make sure to create your database in your project's data/ directory!)"
   ]
  },
  {
   "cell_type": "code",
   "execution_count": null,
   "metadata": {},
   "outputs": [],
   "source": []
  },
  {
   "cell_type": "markdown",
   "metadata": {},
   "source": [
    "Look at the data before and after the join to validate your data."
   ]
  },
  {
   "cell_type": "code",
   "execution_count": null,
   "metadata": {},
   "outputs": [],
   "source": []
  }
 ],
 "metadata": {
  "kernelspec": {
   "display_name": "base",
   "language": "python",
   "name": "python3"
  },
  "language_info": {
   "codemirror_mode": {
    "name": "ipython",
    "version": 3
   },
   "file_extension": ".py",
   "mimetype": "text/x-python",
   "name": "python",
   "nbconvert_exporter": "python",
   "pygments_lexer": "ipython3",
   "version": "3.12.3"
  }
 },
 "nbformat": 4,
 "nbformat_minor": 4
}
