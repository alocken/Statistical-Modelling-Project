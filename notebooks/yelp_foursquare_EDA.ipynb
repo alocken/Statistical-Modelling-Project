{
 "cells": [
  {
   "cell_type": "code",
   "execution_count": 1,
   "metadata": {},
   "outputs": [],
   "source": [
    "# imports\n",
    "import requests"
   ]
  },
  {
   "cell_type": "markdown",
   "metadata": {},
   "source": [
    "# Foursquare"
   ]
  },
  {
   "cell_type": "markdown",
   "metadata": {},
   "source": [
    "Send a request to Foursquare with a small radius (1000m) for all the bike stations in your city of choice. "
   ]
  },
  {
   "cell_type": "code",
   "execution_count": 2,
   "metadata": {},
   "outputs": [],
   "source": [
    "#foursquare api key\n",
    "APIkey = 'fsq34koYbqX22g7hQjREyR+h6W3+c7494w9O0ptOMR38v+U='"
   ]
  },
  {
   "cell_type": "code",
   "execution_count": null,
   "metadata": {},
   "outputs": [],
   "source": [
    "#Bike stations for AlGira, Almeirim citybikes \n",
    "locations = [\n",
    "    {\"lat\": 39.209869, \"lng\": -8.630230}, # Cineteatro bike station\n",
    "     {\"lat\": 39.205402, \"lng\": -8.624431}, # Pavilhão Desportivo bike station\n",
    "      {\"lat\": 39.207352, \"lng\": -8.621210}, # Biblioteca Municipal bike station\n",
    "       {\"lat\": 39.214693, \"lng\": -8.622314}, # Parque Urbano bike station\n",
    "        {\"lat\": 39.211938, \"lng\": -8.617121}, # Piscinas & Estádio Municipal bike station\n",
    "         {\"lat\": 39.209581, \"lng\": -8.622313}, # Rua dos Aliados bike station\n",
    "          {\"lat\": 39.206141, \"lng\": -8.630568}, # Posto Turismo bike station\n",
    "           {\"lat\": 39.209869, \"lng\": -8.630230}, # Charquinhos bike station\n",
    "            {\"lat\": 39.208450, \"lng\": -8.628452}  # Câmara Municipal bike station\n",
    "]"
   ]
  },
  {
   "cell_type": "code",
   "execution_count": null,
   "metadata": {},
   "outputs": [],
   "source": [
    "# foursquare url + headers \n",
    "URL = 'https://api.foursquare.com/v3/places/search'\n",
    "headers = {\n",
    "    'Authorization':'fsq34koYbqX22g7hQjREyR+h6W3+c7494w9O0ptOMR38v+U=',\n",
    "    'Accept': 'application/json'  \n",
    "}\n"
   ]
  },
  {
   "cell_type": "code",
   "execution_count": null,
   "metadata": {},
   "outputs": [],
   "source": [
    "# query 1000m radius all bike stations for AlGira, Almeirim citybikes \n",
    "for loc in locations:\n",
    "    params = {\n",
    "        \"ll\": f\"{loc['lat']},{loc['lng']}\",\n",
    "        \"radius\": 1000,\n",
    "        \"limit\": 50\n",
    "    }"
   ]
  },
  {
   "cell_type": "markdown",
   "metadata": {},
   "source": [
    "Parse through the response to get the POI (such as restaurants, bars, etc) details you want (ratings, name, location, etc)"
   ]
  },
  {
   "cell_type": "code",
   "execution_count": null,
   "metadata": {},
   "outputs": [],
   "source": [
    "for loc in locations:\n",
    "    params = {\n",
    "        \"ll\": f\"{loc['lat']},{loc['lng']}\",\n",
    "        \"radius\": 1000,\n",
    "        \"categories\": \"13003,13032\", #bar and coffee shop category id  \n",
    "        \"limit\": 50\n",
    "    }"
   ]
  },
  {
   "cell_type": "markdown",
   "metadata": {},
   "source": [
    "Put your parsed results into a DataFrame"
   ]
  },
  {
   "cell_type": "code",
   "execution_count": null,
   "metadata": {},
   "outputs": [],
   "source": []
  },
  {
   "cell_type": "markdown",
   "metadata": {},
   "source": [
    "# Yelp"
   ]
  },
  {
   "cell_type": "markdown",
   "metadata": {},
   "source": [
    "Send a request to Yelp with a small radius (1000m) for all the bike stations in your city of choice. "
   ]
  },
  {
   "cell_type": "code",
   "execution_count": null,
   "metadata": {},
   "outputs": [],
   "source": []
  },
  {
   "cell_type": "markdown",
   "metadata": {},
   "source": [
    "Parse through the response to get the POI (such as restaurants, bars, etc) details you want (ratings, name, location, etc)"
   ]
  },
  {
   "cell_type": "code",
   "execution_count": null,
   "metadata": {},
   "outputs": [],
   "source": []
  },
  {
   "cell_type": "markdown",
   "metadata": {},
   "source": [
    "Put your parsed results into a DataFrame"
   ]
  },
  {
   "cell_type": "markdown",
   "metadata": {},
   "source": []
  },
  {
   "cell_type": "markdown",
   "metadata": {},
   "source": [
    "# Comparing Results"
   ]
  },
  {
   "cell_type": "markdown",
   "metadata": {},
   "source": [
    "Which API provided you with more complete data? Provide an explanation. "
   ]
  },
  {
   "cell_type": "markdown",
   "metadata": {},
   "source": []
  },
  {
   "cell_type": "markdown",
   "metadata": {},
   "source": [
    "Get the top 10 restaurants according to their rating"
   ]
  },
  {
   "cell_type": "code",
   "execution_count": null,
   "metadata": {},
   "outputs": [],
   "source": []
  }
 ],
 "metadata": {
  "kernelspec": {
   "display_name": "base",
   "language": "python",
   "name": "python3"
  },
  "language_info": {
   "codemirror_mode": {
    "name": "ipython",
    "version": 3
   },
   "file_extension": ".py",
   "mimetype": "text/x-python",
   "name": "python",
   "nbconvert_exporter": "python",
   "pygments_lexer": "ipython3",
   "version": "3.12.3"
  }
 },
 "nbformat": 4,
 "nbformat_minor": 4
}
